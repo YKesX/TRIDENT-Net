{
  "cells": [
    {
      "cell_type": "code",
      "source": [
        "!apt-get install pciutils"
      ],
      "metadata": {
        "colab": {
          "base_uri": "https://localhost:8080/"
        },
        "id": "9xo5kvtgFGsN",
        "outputId": "23bf5f83-bfaa-4596-df8c-947c0517701e"
      },
      "execution_count": 1,
      "outputs": [
        {
          "output_type": "stream",
          "name": "stdout",
          "text": [
            "Reading package lists... Done\n",
            "Building dependency tree... Done\n",
            "Reading state information... Done\n",
            "The following additional packages will be installed:\n",
            "  libpci3 pci.ids\n",
            "The following NEW packages will be installed:\n",
            "  libpci3 pci.ids pciutils\n",
            "0 upgraded, 3 newly installed, 0 to remove and 35 not upgraded.\n",
            "Need to get 343 kB of archives.\n",
            "After this operation, 1,581 kB of additional disk space will be used.\n",
            "Get:1 http://archive.ubuntu.com/ubuntu jammy-updates/main amd64 pci.ids all 0.0~2022.01.22-1ubuntu0.1 [251 kB]\n",
            "Get:2 http://archive.ubuntu.com/ubuntu jammy/main amd64 libpci3 amd64 1:3.7.0-6 [28.9 kB]\n",
            "Get:3 http://archive.ubuntu.com/ubuntu jammy/main amd64 pciutils amd64 1:3.7.0-6 [63.6 kB]\n",
            "Fetched 343 kB in 1s (313 kB/s)\n",
            "Selecting previously unselected package pci.ids.\n",
            "(Reading database ... 126371 files and directories currently installed.)\n",
            "Preparing to unpack .../pci.ids_0.0~2022.01.22-1ubuntu0.1_all.deb ...\n",
            "Unpacking pci.ids (0.0~2022.01.22-1ubuntu0.1) ...\n",
            "Selecting previously unselected package libpci3:amd64.\n",
            "Preparing to unpack .../libpci3_1%3a3.7.0-6_amd64.deb ...\n",
            "Unpacking libpci3:amd64 (1:3.7.0-6) ...\n",
            "Selecting previously unselected package pciutils.\n",
            "Preparing to unpack .../pciutils_1%3a3.7.0-6_amd64.deb ...\n",
            "Unpacking pciutils (1:3.7.0-6) ...\n",
            "Setting up pci.ids (0.0~2022.01.22-1ubuntu0.1) ...\n",
            "Setting up libpci3:amd64 (1:3.7.0-6) ...\n",
            "Setting up pciutils (1:3.7.0-6) ...\n",
            "Processing triggers for man-db (2.10.2-1) ...\n",
            "Processing triggers for libc-bin (2.35-0ubuntu3.8) ...\n",
            "/sbin/ldconfig.real: /usr/local/lib/libur_adapter_level_zero.so.0 is not a symbolic link\n",
            "\n",
            "/sbin/ldconfig.real: /usr/local/lib/libtbbmalloc.so.2 is not a symbolic link\n",
            "\n",
            "/sbin/ldconfig.real: /usr/local/lib/libhwloc.so.15 is not a symbolic link\n",
            "\n",
            "/sbin/ldconfig.real: /usr/local/lib/libtcm.so.1 is not a symbolic link\n",
            "\n",
            "/sbin/ldconfig.real: /usr/local/lib/libur_adapter_level_zero_v2.so.0 is not a symbolic link\n",
            "\n",
            "/sbin/ldconfig.real: /usr/local/lib/libtcm_debug.so.1 is not a symbolic link\n",
            "\n",
            "/sbin/ldconfig.real: /usr/local/lib/libur_loader.so.0 is not a symbolic link\n",
            "\n",
            "/sbin/ldconfig.real: /usr/local/lib/libtbbmalloc_proxy.so.2 is not a symbolic link\n",
            "\n",
            "/sbin/ldconfig.real: /usr/local/lib/libur_adapter_opencl.so.0 is not a symbolic link\n",
            "\n",
            "/sbin/ldconfig.real: /usr/local/lib/libtbb.so.12 is not a symbolic link\n",
            "\n",
            "/sbin/ldconfig.real: /usr/local/lib/libtbbbind.so.3 is not a symbolic link\n",
            "\n",
            "/sbin/ldconfig.real: /usr/local/lib/libtbbbind_2_5.so.3 is not a symbolic link\n",
            "\n",
            "/sbin/ldconfig.real: /usr/local/lib/libumf.so.0 is not a symbolic link\n",
            "\n",
            "/sbin/ldconfig.real: /usr/local/lib/libtbbbind_2_0.so.3 is not a symbolic link\n",
            "\n"
          ]
        }
      ]
    },
    {
      "cell_type": "code",
      "source": [
        "%cd /content\n",
        "#!git clone https://github.com/runew0lf/RuinedFooocus.git\n",
        "%cd /content/RuinedFooocus\n",
        "!python entry_with_update.py --share --gpu-only"
      ],
      "metadata": {
        "colab": {
          "base_uri": "https://localhost:8080/"
        },
        "id": "kWpnqGDfFMVJ",
        "outputId": "749f2ba8-8541-4255-fbea-a2e5ba33df9e"
      },
      "execution_count": 14,
      "outputs": [
        {
          "output_type": "stream",
          "name": "stdout",
          "text": [
            "/content\n",
            "/content/RuinedFooocus\n",
            "You have the latest version\n",
            "Python 3.12.11 (main, Jun  4 2025, 08:56:18) [GCC 11.4.0]\n",
            "RuinedFooocus version: 25.08.31\n",
            "Check pip\n",
            "Check pre-requirements\n",
            "Check for old modules\n",
            "Torch platform: Linux: cu128\n",
            ">  ['/usr/bin/python3', '-m', 'pip', 'install', 'torch', 'torchaudio', 'torchvision', '--index-url', 'https://download.pytorch.org/whl/cu128']\n",
            "Looking in indexes: https://download.pytorch.org/whl/cu128\n",
            "Requirement already satisfied: torch in /usr/local/lib/python3.12/dist-packages (2.8.0+cu126)\n",
            "Requirement already satisfied: torchaudio in /usr/local/lib/python3.12/dist-packages (2.8.0+cu126)\n",
            "Requirement already satisfied: torchvision in /usr/local/lib/python3.12/dist-packages (0.23.0+cu126)\n",
            "Requirement already satisfied: filelock in /usr/local/lib/python3.12/dist-packages (from torch) (3.19.1)\n",
            "Requirement already satisfied: typing-extensions>=4.10.0 in /usr/local/lib/python3.12/dist-packages (from torch) (4.15.0)\n",
            "Requirement already satisfied: setuptools in /usr/local/lib/python3.12/dist-packages (from torch) (75.2.0)\n",
            "Requirement already satisfied: sympy>=1.13.3 in /usr/local/lib/python3.12/dist-packages (from torch) (1.13.3)\n",
            "Requirement already satisfied: networkx in /usr/local/lib/python3.12/dist-packages (from torch) (3.5)\n",
            "Requirement already satisfied: jinja2 in /usr/local/lib/python3.12/dist-packages (from torch) (3.1.6)\n",
            "Requirement already satisfied: fsspec in /usr/local/lib/python3.12/dist-packages (from torch) (2025.3.0)\n",
            "Requirement already satisfied: nvidia-cuda-nvrtc-cu12==12.6.77 in /usr/local/lib/python3.12/dist-packages (from torch) (12.6.77)\n",
            "Requirement already satisfied: nvidia-cuda-runtime-cu12==12.6.77 in /usr/local/lib/python3.12/dist-packages (from torch) (12.6.77)\n",
            "Requirement already satisfied: nvidia-cuda-cupti-cu12==12.6.80 in /usr/local/lib/python3.12/dist-packages (from torch) (12.6.80)\n",
            "Requirement already satisfied: nvidia-cudnn-cu12==9.10.2.21 in /usr/local/lib/python3.12/dist-packages (from torch) (9.10.2.21)\n",
            "Requirement already satisfied: nvidia-cublas-cu12==12.6.4.1 in /usr/local/lib/python3.12/dist-packages (from torch) (12.6.4.1)\n",
            "Requirement already satisfied: nvidia-cufft-cu12==11.3.0.4 in /usr/local/lib/python3.12/dist-packages (from torch) (11.3.0.4)\n",
            "Requirement already satisfied: nvidia-curand-cu12==10.3.7.77 in /usr/local/lib/python3.12/dist-packages (from torch) (10.3.7.77)\n",
            "Requirement already satisfied: nvidia-cusolver-cu12==11.7.1.2 in /usr/local/lib/python3.12/dist-packages (from torch) (11.7.1.2)\n",
            "Requirement already satisfied: nvidia-cusparse-cu12==12.5.4.2 in /usr/local/lib/python3.12/dist-packages (from torch) (12.5.4.2)\n",
            "Requirement already satisfied: nvidia-cusparselt-cu12==0.7.1 in /usr/local/lib/python3.12/dist-packages (from torch) (0.7.1)\n",
            "Requirement already satisfied: nvidia-nccl-cu12==2.27.3 in /usr/local/lib/python3.12/dist-packages (from torch) (2.27.3)\n",
            "Requirement already satisfied: nvidia-nvtx-cu12==12.6.77 in /usr/local/lib/python3.12/dist-packages (from torch) (12.6.77)\n",
            "Requirement already satisfied: nvidia-nvjitlink-cu12==12.6.85 in /usr/local/lib/python3.12/dist-packages (from torch) (12.6.85)\n",
            "Requirement already satisfied: nvidia-cufile-cu12==1.11.1.6 in /usr/local/lib/python3.12/dist-packages (from torch) (1.11.1.6)\n",
            "Requirement already satisfied: triton==3.4.0 in /usr/local/lib/python3.12/dist-packages (from torch) (3.4.0)\n",
            "Requirement already satisfied: numpy in /usr/local/lib/python3.12/dist-packages (from torchvision) (1.26.4)\n",
            "Requirement already satisfied: pillow!=8.3.*,>=5.3.0 in /usr/local/lib/python3.12/dist-packages (from torchvision) (11.3.0)\n",
            "Requirement already satisfied: mpmath<1.4,>=1.1.0 in /usr/local/lib/python3.12/dist-packages (from sympy>=1.13.3->torch) (1.3.0)\n",
            "Requirement already satisfied: MarkupSafe>=2.0 in /usr/local/lib/python3.12/dist-packages (from jinja2->torch) (3.0.2)\n",
            "ComfyUI update check complete.\n",
            "Calcuis-GGUF update check complete.\n",
            "Starting webui\n",
            "2025-09-02 11:26:49.864424: E external/local_xla/xla/stream_executor/cuda/cuda_fft.cc:467] Unable to register cuFFT factory: Attempting to register factory for plugin cuFFT when one has already been registered\n",
            "WARNING: All log messages before absl::InitializeLog() is called are written to STDERR\n",
            "E0000 00:00:1756812409.898795   79944 cuda_dnn.cc:8579] Unable to register cuDNN factory: Attempting to register factory for plugin cuDNN when one has already been registered\n",
            "E0000 00:00:1756812409.908732   79944 cuda_blas.cc:1407] Unable to register cuBLAS factory: Attempting to register factory for plugin cuBLAS when one has already been registered\n",
            "W0000 00:00:1756812409.937855   79944 computation_placer.cc:177] computation placer already registered. Please check linkage and avoid linking the same target more than once.\n",
            "W0000 00:00:1756812409.938797   79944 computation_placer.cc:177] computation placer already registered. Please check linkage and avoid linking the same target more than once.\n",
            "W0000 00:00:1756812409.938821   79944 computation_placer.cc:177] computation placer already registered. Please check linkage and avoid linking the same target more than once.\n",
            "W0000 00:00:1756812409.938829   79944 computation_placer.cc:177] computation placer already registered. Please check linkage and avoid linking the same target more than once.\n",
            "2025-09-02 11:26:49.947130: I tensorflow/core/platform/cpu_feature_guard.cc:210] This TensorFlow binary is optimized to use available CPU instructions in performance-critical operations.\n",
            "To enable the following instructions: AVX2 AVX512F FMA, in other operations, rebuild TensorFlow with the appropriate compiler flags.\n",
            "Using default pipeline.\n",
            "Loading base model: sd_xl_base_1.0_0.9vae.safetensors\n",
            "* Running on local URL:  http://127.0.0.1:7860\n",
            "* Running on public URL: https://9334e8a20d6de4336a.gradio.live\n",
            "\n",
            "This share link expires in 1 week. For free permanent hosting and GPU upgrades, run `gradio deploy` from the terminal in the working directory to deploy to Hugging Face Spaces (https://huggingface.co/spaces)\n",
            "\u001b7\u001b[?47h\u001b[H\u001b[2J\u001b[24;1HOpening\u001b[Csocket...\u001b[1;1H\u001b[24;1H9334e8a20d6d\u001b[C4336a.gradio.live\u001b[Ccontacted.\u001b[CWaiting\u001b[Cfor\u001b[Creply...\u001b[1;1H\u001b[24;16H\u001b[K\u001b[24;1HHTTP/1.1 200 OK\u001b[1;1H\u001b[24;1H\u001b[K    1/435kb   0%\u001b[24;43H\u001b[7m \u001b[m\u001b[24;44H\u001b[24;1H\u001b[K\u001b[7m≪ ↑ ↓ Viewing[SSL] <>\u001b[m\u001b[1;1H\u001b[?1001s\u001b[?1000h\u001b[?1000l\u001b[?1001r\u001b[?1001s\u001b[?1000h\u001b[?1006h\u001b[?1006l\u001b[?1000l\u001b[?1001r\u001b[m\u001b[m\u001b[2J\u001b[?47l\u001b8\u001b[mTraceback (most recent call last):\n",
            "  File \"/usr/lib/python3.12/subprocess.py\", line 1264, in wait\n",
            "    return self._wait(timeout=timeout)\n",
            "           ^^^^^^^^^^^^^^^^^^^^^^^^^^^\n",
            "  File \"/usr/lib/python3.12/subprocess.py\", line 2053, in _wait\n",
            "    (pid, sts) = self._try_wait(0)\n",
            "                 ^^^^^^^^^^^^^^^^^\n",
            "  File \"/usr/lib/python3.12/subprocess.py\", line 2011, in _try_wait\n",
            "    (pid, sts) = os.waitpid(self.pid, wait_flags)\n",
            "                 ^^^^^^^^^^^^^^^^^^^^^^^^^^^^^^^^\n",
            "KeyboardInterrupt\n",
            "\n",
            "During handling of the above exception, another exception occurred:\n",
            "\n",
            "Traceback (most recent call last):\n",
            "  File \"/content/RuinedFooocus/entry_with_update.py\", line 54, in <module>\n",
            "    from launch import *\n",
            "  File \"/content/RuinedFooocus/launch.py\", line 221, in <module>\n",
            "    launch_ui()\n",
            "  File \"/content/RuinedFooocus/launch.py\", line 220, in launch_ui\n",
            "    import webui\n",
            "  File \"/content/RuinedFooocus/webui.py\", line 1434, in <module>\n",
            "    launch_app(args)\n",
            "  File \"/content/RuinedFooocus/webui.py\", line 131, in launch_app\n",
            "    shared.server_app, shared.local_url, shared.share_url = main_tabs.launch(\n",
            "                                                            ^^^^^^^^^^^^^^^^^\n",
            "  File \"/usr/local/lib/python3.12/dist-packages/gradio/blocks.py\", line 2910, in launch\n",
            "    webbrowser.open(link)\n",
            "  File \"/usr/lib/python3.12/webbrowser.py\", line 90, in open\n",
            "    if browser.open(url, new, autoraise):\n",
            "       ^^^^^^^^^^^^^^^^^^^^^^^^^^^^^^^^^\n",
            "  File \"/usr/lib/python3.12/webbrowser.py\", line 185, in open\n",
            "    return not p.wait()\n",
            "               ^^^^^^^^\n",
            "  File \"/usr/lib/python3.12/subprocess.py\", line 1277, in wait\n",
            "    self._wait(timeout=sigint_timeout)\n",
            "  File \"/usr/lib/python3.12/subprocess.py\", line 2047, in _wait\n",
            "    time.sleep(delay)\n",
            "KeyboardInterrupt\n",
            "Killing tunnel 127.0.0.1:7860 <> https://9334e8a20d6de4336a.gradio.live\n",
            "^C\n"
          ]
        }
      ]
    },
    {
      "cell_type": "code",
      "source": [
        "from google.colab import drive\n",
        "drive.mount('/content/drive')"
      ],
      "metadata": {
        "colab": {
          "base_uri": "https://localhost:8080/"
        },
        "id": "MjjFZwBmKaZh",
        "outputId": "9df5a2eb-344b-46b0-a156-0f9cef797642"
      },
      "execution_count": 4,
      "outputs": [
        {
          "output_type": "stream",
          "name": "stdout",
          "text": [
            "Mounted at /content/drive\n"
          ]
        }
      ]
    },
    {
      "cell_type": "code",
      "source": [
        "#@title ✅ Fix RuinedFooocus \"advanced controls hidden\" without breaking indentation\n",
        "WEBUI_PATH = \"/content/RuinedFooocus/webui.py\"  # <-- change this to your path\n",
        "\n",
        "import re\n",
        "from pathlib import Path\n",
        "\n",
        "p = Path(WEBUI_PATH)\n",
        "assert p.exists(), f\"File not found: {p}\"\n",
        "\n",
        "# 1) Restore from .bak if our previous patch created it (and file looks broken)\n",
        "bak = p.with_suffix(\".py.bak\")\n",
        "src = p.read_text(encoding=\"utf-8\")\n",
        "\n",
        "if \"IndentationError\" in src or \"expected an indented block\" in src:\n",
        "    # (This won't usually be present in file text, but just in case.)\n",
        "    pass\n",
        "\n",
        "# If a backup exists, prefer restoring it first so we patch a clean file\n",
        "if bak.exists():\n",
        "    print(f\"Restoring backup from: {bak.name}\")\n",
        "    src = bak.read_text(encoding=\"utf-8\")\n",
        "\n",
        "original = src\n",
        "changes = 0\n",
        "\n",
        "def replace_widget_visibility(name_regex):\n",
        "    global src, changes\n",
        "    # Turn \"visible=False\" to \"visible=True\" inside the widget construction\n",
        "    # e.g., cfg = gr.Slider(..., visible=False, )\n",
        "    pattern = rf'({name_regex}\\s*=\\s*gr\\.[A-Za-z_]+\\([^\\)]*?)visible\\s*=\\s*False'\n",
        "    repl    = r'\\1visible=True'\n",
        "    src, n = re.subn(pattern, repl, src, flags=re.DOTALL)\n",
        "    changes += n\n",
        "\n",
        "def force_visible_in_function(func_name):\n",
        "    \"\"\"Within a function body, flip any gr.update(visible=False) -> True.\"\"\"\n",
        "    global src, changes\n",
        "    # Capture function body non-greedily up to the next 'def ' at column 0 OR a decorator OR the known sentinel lines.\n",
        "    pattern = rf'(def\\s+{func_name}\\s*\\([^\\)]*\\):\\n)(.*?)(?=\\n\\s*def\\s|\\n\\s*@|\\Z)'\n",
        "    m = re.search(pattern, src, flags=re.DOTALL)\n",
        "    if not m:\n",
        "        print(f\"⚠️ Could not find function: {func_name}\")\n",
        "        return\n",
        "    head, body = m.group(1), m.group(2)\n",
        "    new_body, n1 = re.subn(r'gr\\.update\\(\\s*visible\\s*=\\s*False\\s*\\)', 'gr.update(visible=True)', body)\n",
        "    changes += n1\n",
        "    # Also flip any tuple/dict uses: visible=False,\n",
        "    new_body, n2 = re.subn(r'visible\\s*=\\s*False', 'visible=True', new_body)\n",
        "    changes += n2\n",
        "    src = src[:m.start(1)] + head + new_body + src[m.end(2):]\n",
        "\n",
        "# 2) Make the core advanced widgets visible at definition\n",
        "for w in [\n",
        "    r'perf_name', r'perf_save', r'custom_steps',\n",
        "    r'cfg', r'sampler_name', r'scheduler', r'clip_skip'\n",
        "]:\n",
        "    replace_widget_visibility(w)\n",
        "\n",
        "# 3) Don’t let callbacks hide them\n",
        "for fn in [\n",
        "    'performance_changed',\n",
        "    'preset_select',\n",
        "    'preset_unselect',\n",
        "    'preset_image_upload'\n",
        "]:\n",
        "    force_visible_in_function(fn)\n",
        "\n",
        "# 4) Write patched file + keep a new backup of the restored original\n",
        "safe_bak = p.with_suffix(\".py.safe_orig\")\n",
        "if not safe_bak.exists():\n",
        "    safe_bak.write_text(original, encoding=\"utf-8\")\n",
        "p.write_text(src, encoding=\"utf-8\")\n",
        "\n",
        "print(f\"✅ Patched {p.name}.\")\n",
        "print(f\"   • Original saved as: {safe_bak.name}\")\n",
        "print(f\"   • Total targeted edits applied: {changes}\")\n",
        "print(\"➡️  Restart RuinedFooocus and the advanced controls should be visible.\")\n"
      ],
      "metadata": {
        "colab": {
          "base_uri": "https://localhost:8080/"
        },
        "id": "ZYa9nbL6bopQ",
        "outputId": "53efc419-0748-4a09-f8dc-01c543268e17"
      },
      "execution_count": 9,
      "outputs": [
        {
          "output_type": "stream",
          "name": "stdout",
          "text": [
            "✅ Patched webui.py.\n",
            "   • Original saved as: webui.py.safe_orig\n",
            "   • Total targeted edits applied: 30\n",
            "➡️  Restart RuinedFooocus and the advanced controls should be visible.\n"
          ]
        }
      ]
    },
    {
      "cell_type": "code",
      "source": [
        "%cd /content\n",
        "!cp -r 'RuinedFooocus/outputs/2025-09-02/' drive/MyDrive/ColabExports/"
      ],
      "metadata": {
        "colab": {
          "base_uri": "https://localhost:8080/"
        },
        "id": "UHCgpDXA9U1a",
        "outputId": "bcf4f428-eab4-42a6-b670-201f9acb8db0"
      },
      "execution_count": 24,
      "outputs": [
        {
          "output_type": "stream",
          "name": "stdout",
          "text": [
            "/content\n"
          ]
        }
      ]
    },
    {
      "cell_type": "code",
      "source": [
        "# Extract every frame from a video in BASE_DIR to BASE_DIR/clipframes/<video_stem>\n",
        "# Set VIDEO_FILENAME or leave blank to auto-pick the first video file in BASE_DIR.\n",
        "\n",
        "BASE_DIR = \"/content/drive/MyDrive/ColabExports/frames_clips\"  # where your .mp4 lives\n",
        "VIDEO_FILENAME = \"clip_00-01-24_350_to_00-01-28_200.mp4\"  # e.g. \"myclip.mp4\"; if \"\", auto-detects first video file in BASE_DIR\n",
        "SAVE_AS_PNG = True   # if False, saves JPEGs\n",
        "JPG_QUALITY = 95     # 50..100\n",
        "PNG_COMPRESSION = 3  # 0..9 (lower = faster/larger)\n",
        "\n",
        "import os, pathlib\n",
        "from datetime import datetime\n",
        "import cv2\n",
        "\n",
        "# 0) Resolve video path (no upload, Drive assumed mounted already)\n",
        "if not VIDEO_FILENAME:\n",
        "    candidates = [f for f in os.listdir(BASE_DIR)\n",
        "                  if f.lower().endswith((\".mp4\", \".mov\", \".m4v\", \".avi\", \".mkv\"))]\n",
        "    if not candidates:\n",
        "        raise RuntimeError(f\"No video file found in {BASE_DIR}. Set VIDEO_FILENAME explicitly.\")\n",
        "    VIDEO_FILENAME = sorted(candidates)[0]\n",
        "\n",
        "video_path = os.path.join(BASE_DIR, VIDEO_FILENAME)\n",
        "if not os.path.exists(video_path):\n",
        "    raise FileNotFoundError(f\"Video not found: {video_path}\")\n",
        "\n",
        "# 1) Prepare output folder: BASE_DIR/clipframes/<video_stem> (create if needed)\n",
        "OUTPUT_ROOT = os.path.join(BASE_DIR, \"clipframes\")\n",
        "os.makedirs(OUTPUT_ROOT, exist_ok=True)\n",
        "\n",
        "stem = pathlib.Path(video_path).stem\n",
        "frames_dir = os.path.join(OUTPUT_ROOT, stem)\n",
        "if os.path.exists(frames_dir) and os.listdir(frames_dir):\n",
        "    frames_dir = f\"{frames_dir}_{datetime.now().strftime('%Y%m%d_%H%M%S')}\"\n",
        "os.makedirs(frames_dir, exist_ok=True)\n",
        "\n",
        "print(f\"📼 Video: {video_path}\")\n",
        "print(f\"🗂️  Output folder: {frames_dir}\")\n",
        "\n",
        "# 2) Extract frames with OpenCV\n",
        "cap = cv2.VideoCapture(video_path)\n",
        "if not cap.isOpened():\n",
        "    raise RuntimeError(f\"Failed to open video: {video_path}\")\n",
        "\n",
        "fps = cap.get(cv2.CAP_PROP_FPS)\n",
        "total = int(cap.get(cv2.CAP_PROP_FRAME_COUNT) or 0)\n",
        "w = int(cap.get(cv2.CAP_PROP_FRAME_WIDTH)); h = int(cap.get(cv2.CAP_PROP_FRAME_HEIGHT))\n",
        "print(f\"ℹ️  {w}x{h} @ {fps:.3f} FPS, {total} frames (reported)\")\n",
        "\n",
        "count = 0\n",
        "while True:\n",
        "    ok, frame = cap.read()\n",
        "    if not ok:\n",
        "        break\n",
        "    out_name = f\"{stem}_frame_{count:06d}.png\" if SAVE_AS_PNG else f\"{stem}_frame_{count:06d}.jpg\"\n",
        "    out_path = os.path.join(frames_dir, out_name)\n",
        "    if SAVE_AS_PNG:\n",
        "        cv2.imwrite(out_path, frame, [cv2.IMWRITE_PNG_COMPRESSION, int(PNG_COMPRESSION)])\n",
        "    else:\n",
        "        cv2.imwrite(out_path, frame, [cv2.IMWRITE_JPEG_QUALITY, int(JPG_QUALITY)])\n",
        "    count += 1\n",
        "\n",
        "cap.release()\n",
        "print(f\"✅ Done. Saved {count} frames to: {frames_dir}\")\n"
      ],
      "metadata": {
        "colab": {
          "base_uri": "https://localhost:8080/"
        },
        "id": "7KnByy0N9XjP",
        "outputId": "1fae1071-7e4e-4f43-c40e-f7a7da9c74bd"
      },
      "execution_count": 13,
      "outputs": [
        {
          "output_type": "stream",
          "name": "stdout",
          "text": [
            "📼 Video: /content/drive/MyDrive/ColabExports/frames_clips/clip_00-01-24_350_to_00-01-28_200.mp4\n",
            "🗂️  Output folder: /content/drive/MyDrive/ColabExports/frames_clips/clipframes/clip_00-01-24_350_to_00-01-28_200\n",
            "ℹ️  640x360 @ 25.000 FPS, 97 frames (reported)\n",
            "✅ Done. Saved 97 frames to: /content/drive/MyDrive/ColabExports/frames_clips/clipframes/clip_00-01-24_350_to_00-01-28_200\n"
          ]
        }
      ]
    },
    {
      "cell_type": "code",
      "source": [
        "%cd /content/RuinedFooocus/outputs/\n",
        "!rm -rf '2025-09-02'"
      ],
      "metadata": {
        "colab": {
          "base_uri": "https://localhost:8080/"
        },
        "id": "pvrvGPiFEgi2",
        "outputId": "8761b28c-5540-4d43-84ed-754b675c0eda"
      },
      "execution_count": 20,
      "outputs": [
        {
          "output_type": "stream",
          "name": "stdout",
          "text": [
            "/content/RuinedFooocus/outputs\n"
          ]
        }
      ]
    }
  ],
  "metadata": {
    "colab": {
      "name": "Making the Most of your Colab Subscription",
      "provenance": [],
      "gpuType": "T4"
    },
    "kernelspec": {
      "display_name": "Python 3",
      "name": "python3"
    },
    "accelerator": "GPU"
  },
  "nbformat": 4,
  "nbformat_minor": 0
}
